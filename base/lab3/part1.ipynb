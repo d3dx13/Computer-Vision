{
 "cells": [
  {
   "cell_type": "markdown",
   "metadata": {
    "collapsed": true,
    "pycharm": {
     "is_executing": false,
     "name": "#%% md\n"
    }
   },
   "source": [
    "Для работы необходимо скачать датасет **archive.zip**:\n",
    "\n",
    "https://www.kaggle.com/pranavraikokte/airplanes-dataset-for-rcnn?select=Airplanes_Annotations\n",
    "\n",
    "И модель **Comp_Vision_Task_3_model.zip**:\n",
    "\n",
    "https://de.ifmo.ru/nextcloud/index.php/s/KtcwoaaJTSQC9WD?path=%2F%D0%97%D0%B0%D0%B4%D0%B0%D0%BD%D0%B8%D0%B5%203\n",
    "\n",
    "Всё закинуть в папку data без распаковки."
   ]
  },
  {
   "cell_type": "code",
   "execution_count": 86,
   "outputs": [],
   "source": [
    "import zipfile\n",
    "import shutil\n",
    "import os\n",
    "\n",
    "import tensorflow as tf\n",
    "import cv2\n",
    "import numpy as np\n",
    "import cupy as cp\n",
    "from matplotlib import pyplot as plt\n",
    "from matplotlib.pyplot import figure\n",
    "import sklearn.metrics\n",
    "\n",
    "use_graph = False"
   ],
   "metadata": {
    "collapsed": false,
    "pycharm": {
     "name": "#%%\n",
     "is_executing": false
    }
   }
  },
  {
   "cell_type": "markdown",
   "source": [
    "Для начала нужно распаковать датасет, благо он небольшой."
   ],
   "metadata": {
    "collapsed": false
   }
  },
  {
   "cell_type": "code",
   "execution_count": 87,
   "outputs": [],
   "source": [
    "zip_file = \"data/archive.zip\"\n",
    "try:\n",
    "    shutil.rmtree(\"data/temp\")\n",
    "except:\n",
    "    pass\n",
    "os.mkdir(\"data/temp\")\n",
    "with zipfile.ZipFile(zip_file, 'r') as z:\n",
    "    for file in z.namelist():\n",
    "        z.extract(file, \"data/temp\")"
   ],
   "metadata": {
    "collapsed": false,
    "pycharm": {
     "name": "#%%\n",
     "is_executing": false
    }
   }
  },
  {
   "cell_type": "markdown",
   "source": [
    "Для выполнения заданий, описанных ниже, используйте предварительно обученную модель из рассмотренного примера для \n",
    "датасета с самолетами.\n",
    "\n",
    "###### 1. Для следующего изображения (42847.jpg из датасета с самолетами) выполните сегментацию посредством метода \n",
    "createSelectiveSearchSegmentation() из библиотеки cv2 (используйте switchToSelectiveSearchFast())."
   ],
   "metadata": {
    "collapsed": false
   }
  },
  {
   "cell_type": "code",
   "execution_count": 88,
   "outputs": [],
   "source": [
    "filename = \"42847.jpg\"\n",
    "image = cv2.imread(f\"data/temp/Images/Images/{filename}\")"
   ],
   "metadata": {
    "collapsed": false,
    "pycharm": {
     "name": "#%%\n",
     "is_executing": false
    }
   }
  },
  {
   "cell_type": "code",
   "execution_count": 89,
   "outputs": [],
   "source": [
    "if use_graph:\n",
    "    figure(figsize=(16, 9), dpi=80)\n",
    "    plt.imshow(cv2.cvtColor(image, cv2.COLOR_BGR2RGB))\n",
    "    plt.xticks([]),plt.yticks([])\n",
    "    print(filename)\n",
    "    plt.show()"
   ],
   "metadata": {
    "collapsed": false,
    "pycharm": {
     "name": "#%%\n",
     "is_executing": false
    }
   }
  },
  {
   "cell_type": "code",
   "execution_count": 90,
   "outputs": [],
   "source": [
    "cv2.setUseOptimized(True)\n",
    "ss = cv2.ximgproc.segmentation.createSelectiveSearchSegmentation()\n",
    "ss.setBaseImage(image)\n",
    "ss.switchToSelectiveSearchFast()\n",
    "rects = ss.process()"
   ],
   "metadata": {
    "collapsed": false,
    "pycharm": {
     "name": "#%%\n",
     "is_executing": false
    }
   }
  },
  {
   "cell_type": "code",
   "execution_count": 91,
   "outputs": [],
   "source": [
    "if use_graph:\n",
    "    figure(figsize=(16, 9), dpi=80)\n",
    "    image_to_show = image.copy()\n",
    "    for rect in rects:\n",
    "        x, y, w, h = rect\n",
    "        cv2.rectangle(image_to_show, (x, y), (x + w, y + h), (0, 255, 0), 1, cv2.LINE_AA)\n",
    "    plt.imshow(cv2.cvtColor(image_to_show, cv2.COLOR_BGR2RGB))\n",
    "    plt.xticks([]),plt.yticks([])\n",
    "    print(filename)\n",
    "    plt.show()"
   ],
   "metadata": {
    "collapsed": false,
    "pycharm": {
     "name": "#%%\n",
     "is_executing": false
    }
   }
  },
  {
   "cell_type": "markdown",
   "source": [
    "Сама модель огромная. Её нужно распаковать и загрузить веса."
   ],
   "metadata": {
    "collapsed": false
   }
  },
  {
   "cell_type": "code",
   "execution_count": 92,
   "outputs": [],
   "source": [
    "zip_file = \"data/Comp_Vision_Task_3_model.zip\"\n",
    "try:\n",
    "    shutil.rmtree(\"data/temp\")\n",
    "except:\n",
    "    pass\n",
    "os.mkdir(\"data/temp\")\n",
    "with zipfile.ZipFile(zip_file, 'r') as z:\n",
    "    for file in z.namelist():\n",
    "        z.extract(file, \"data/temp\")"
   ],
   "metadata": {
    "collapsed": false,
    "pycharm": {
     "name": "#%%\n",
     "is_executing": false
    }
   }
  },
  {
   "cell_type": "code",
   "execution_count": 93,
   "outputs": [
    {
     "name": "stdout",
     "text": [
      "Model: \"model\"\n_________________________________________________________________\nLayer (type)                 Output Shape              Param #   \n=================================================================\ninput_1 (InputLayer)         [(None, 224, 224, 3)]     0         \n_________________________________________________________________\nblock1_conv1 (Conv2D)        (None, 224, 224, 64)      1792      \n_________________________________________________________________\nblock1_conv2 (Conv2D)        (None, 224, 224, 64)      36928     \n_________________________________________________________________\nblock1_pool (MaxPooling2D)   (None, 112, 112, 64)      0         \n_________________________________________________________________\nblock2_conv1 (Conv2D)        (None, 112, 112, 128)     73856     \n_________________________________________________________________\nblock2_conv2 (Conv2D)        (None, 112, 112, 128)     147584    \n_________________________________________________________________\nblock2_pool (MaxPooling2D)   (None, 56, 56, 128)       0         \n_________________________________________________________________\nblock3_conv1 (Conv2D)        (None, 56, 56, 256)       295168    \n_________________________________________________________________\nblock3_conv2 (Conv2D)        (None, 56, 56, 256)       590080    \n_________________________________________________________________\nblock3_conv3 (Conv2D)        (None, 56, 56, 256)       590080    \n_________________________________________________________________\nblock3_pool (MaxPooling2D)   (None, 28, 28, 256)       0         \n_________________________________________________________________\nblock4_conv1 (Conv2D)        (None, 28, 28, 512)       1180160   \n_________________________________________________________________\nblock4_conv2 (Conv2D)        (None, 28, 28, 512)       2359808   \n_________________________________________________________________\nblock4_conv3 (Conv2D)        (None, 28, 28, 512)       2359808   \n_________________________________________________________________\nblock4_pool (MaxPooling2D)   (None, 14, 14, 512)       0         \n_________________________________________________________________\nblock5_conv1 (Conv2D)        (None, 14, 14, 512)       2359808   \n_________________________________________________________________\nblock5_conv2 (Conv2D)        (None, 14, 14, 512)       2359808   \n_________________________________________________________________\nblock5_conv3 (Conv2D)        (None, 14, 14, 512)       2359808   \n_________________________________________________________________\nblock5_pool (MaxPooling2D)   (None, 7, 7, 512)         0         \n_________________________________________________________________\nflatten (Flatten)            (None, 25088)             0         \n_________________________________________________________________\nfc1 (Dense)                  (None, 4096)              102764544 \n_________________________________________________________________\nfc2 (Dense)                  (None, 4096)              16781312  \n_________________________________________________________________\ndense (Dense)                (None, 2)                 8194      \n=================================================================\nTotal params: 134,268,738\nTrainable params: 126,633,474\nNon-trainable params: 7,635,264\n_________________________________________________________________\n"
     ],
     "output_type": "stream"
    }
   ],
   "source": [
    "# Считывание модели\n",
    "model = tf.keras.models.model_from_json(open('data/temp/Comp_Vision_Task_3_model.json').read())\n",
    "model.load_weights('data/temp/ieeercnn_vgg16_1.h5')\n",
    "model.summary()"
   ],
   "metadata": {
    "collapsed": false,
    "pycharm": {
     "name": "#%%\n",
     "is_executing": false
    }
   }
  },
  {
   "cell_type": "markdown",
   "source": [
    "Идея происходящего дальше:\n",
    "\n",
    "1. Мы ищем с помощью SelectiveSearchSegmentation все возможные \"объекты\"\n",
    "\n",
    "2. Каждый объект прогоняем через предобученную VGG16, и смотрим, с какой вероятностью объект относится\n",
    "к классифициируемому классу. Идея близка к идее \"скользящего окна\", но только прямоугольники берутся не все, а\n",
    "как результат сегментации cv2. \n",
    "\n",
    "3. VGG16 - \"Very Deep Convolutional Networks for Large-Scale Image Recognition\" - нейронная сеть для классификации,\n",
    "следовательно мы можем получить вероятность принадлежности объекта на данном изображении к обученному классу.\n",
    "Производится фильтрация всех прямоугольников по этому порогу threshold и сохраняются наиболее вероятные объекты, \n",
    "принадлежащие к требуемому классу."
   ],
   "metadata": {
    "collapsed": false,
    "pycharm": {
     "name": "#%% md\n",
     "is_executing": false
    }
   }
  },
  {
   "cell_type": "code",
   "execution_count": 98,
   "outputs": [
    {
     "name": "stdout",
     "text": [
      "[[0.81334037 array([90, 71, 24, 26], dtype=int32)]\n [0.914979 array([83, 71, 34, 27], dtype=int32)]\n [0.7603696 array([89, 71, 25, 27], dtype=int32)]\n [0.84444875 array([223, 153,  33,  35], dtype=int32)]\n [0.80786973 array([78, 71, 36, 26], dtype=int32)]\n [0.8054499 array([226, 155,  30,  33], dtype=int32)]\n [0.66221493 array([78, 71, 36, 46], dtype=int32)]\n [0.85726094 array([222, 154,  34,  34], dtype=int32)]\n [0.849152 array([82, 71, 32, 27], dtype=int32)]]\n"
     ],
     "output_type": "stream"
    },
    {
     "name": "stderr",
     "text": [
      "d:\\programs\\python\\python37\\lib\\site-packages\\ipykernel_launcher.py:15: VisibleDeprecationWarning: Creating an ndarray from ragged nested sequences (which is a list-or-tuple of lists-or-tuples-or ndarrays with different lengths or shapes) is deprecated. If you meant to do this, you must specify 'dtype=object' when creating the ndarray\n  from ipykernel import kernelapp as app\n"
     ],
     "output_type": "stream"
    }
   ],
   "source": [
    "threshold = 0.65\n",
    "rects_result = []\n",
    "\n",
    "image_to_show = image.copy()\n",
    "for index, rect in enumerate(rects):\n",
    "    x, y, w, h = rect\n",
    "    rect_image = image[y: y + h,x: x + w]\n",
    "    rect_image = cv2.resize(rect_image, (224, 224), interpolation = cv2.INTER_AREA)\n",
    "    rect_image = np.expand_dims(rect_image, axis = 0)\n",
    "    rect_image = model.predict(rect_image)\n",
    "    if rect_image[0][0] > threshold:\n",
    "        cv2.rectangle(image_to_show, (x, y), (x + w, y + h), (0, 255, 0), 1, cv2.LINE_AA)\n",
    "        rects_result.append([rect_image[0][0], rect])\n",
    "\n",
    "predictions = np.array(rects_result)"
   ],
   "metadata": {
    "collapsed": false,
    "pycharm": {
     "name": "#%%\n",
     "is_executing": false
    }
   }
  },
  {
   "cell_type": "code",
   "execution_count": 95,
   "outputs": [],
   "source": [
    "if use_graph:\n",
    "    figure(figsize=(16, 9), dpi=80)\n",
    "    plt.imshow(cv2.cvtColor(image_to_show, cv2.COLOR_BGR2RGB))\n",
    "    plt.xticks([]),plt.yticks([])\n",
    "    print(filename)\n",
    "    plt.show()"
   ],
   "metadata": {
    "collapsed": false,
    "pycharm": {
     "name": "#%%\n",
     "is_executing": false
    }
   }
  },
  {
   "cell_type": "markdown",
   "source": [
    "###### 2. При помощи модели выполните обнаружение самолетов на изображении. Считать, что модель обнаружила самолет, если вероятность отнесения к классу \"самолет\" превышает 0.65.\n",
    "\n",
    "Отдельно отметим, что модель может ошибаться и выделять в качестве самолетов части изображений, \n",
    "которые самолетов и не содержат. В любом случае, выделенные моделью области будем называть \"самолетами\".\n",
    "\n",
    "Введите количество \"самолетов\", обнаруженных моделью:"
   ],
   "metadata": {
    "collapsed": false,
    "pycharm": {
     "name": "#%% md\n"
    }
   }
  },
  {
   "cell_type": "code",
   "execution_count": 96,
   "outputs": [
    {
     "name": "stdout",
     "text": [
      "Количество \"самолетов\", обнаруженных моделью: 9\n"
     ],
     "output_type": "stream"
    }
   ],
   "source": [
    "print(f\"Количество \\\"самолетов\\\", обнаруженных моделью: {len(rects_result)}\")"
   ],
   "metadata": {
    "collapsed": false,
    "pycharm": {
     "name": "#%%\n",
     "is_executing": false
    }
   }
  },
  {
   "cell_type": "markdown",
   "source": [
    "###### 3. Среди выбранных \"самолетов\" определите тот, вероятность отнесения к классу \"самолет\" которого оказалась наибольшей."
   ],
   "metadata": {
    "collapsed": false,
    "pycharm": {
     "name": "#%% md\n"
    }
   }
  },
  {
   "cell_type": "code",
   "execution_count": 99,
   "outputs": [
    {
     "name": "stdout",
     "text": [
      "Вероятность отнесения к классу \"самолет\" для этого предсказания: 0.9149789810180664\nКоордината x левого верхнего угла соответствующего прямоугольника: 83\nКоордината y левого верхнего угла соответствующего прямоугольника: 71\nШирина (в пикселях) соответствующего прямоугольника: 34\nВысота (в пикселях) соответствующего прямоугольника: 27\n"
     ],
     "output_type": "stream"
    }
   ],
   "source": [
    "predictions_max = predictions[predictions[:,0] == np.max(predictions[:,0])][0]\n",
    "\n",
    "x, y, w, h = predictions_max[1]\n",
    "\n",
    "print(f\"Вероятность отнесения к классу \\\"самолет\\\" для этого предсказания: {predictions_max[0]}\")\n",
    "\n",
    "print(f\"Координата x левого верхнего угла соответствующего прямоугольника: {x}\")\n",
    "print(f\"Координата y левого верхнего угла соответствующего прямоугольника: {y}\")\n",
    "print(f\"Ширина (в пикселях) соответствующего прямоугольника: {w}\")\n",
    "print(f\"Высота (в пикселях) соответствующего прямоугольника: {h}\")"
   ],
   "metadata": {
    "collapsed": false,
    "pycharm": {
     "name": "#%%\n",
     "is_executing": false
    }
   }
  },
  {
   "cell_type": "markdown",
   "source": [
    "###### 4. Среди выбранных \"самолетов\" определите тот, вероятность отнесения к классу \"самолет\" которого оказалась наименьшей."
   ],
   "metadata": {
    "collapsed": false,
    "pycharm": {
     "name": "#%% md\n",
     "is_executing": true
    }
   }
  },
  {
   "cell_type": "code",
   "execution_count": 100,
   "outputs": [
    {
     "name": "stdout",
     "text": [
      "Вероятность отнесения к классу \"самолет\" для этого предсказания: 0.6622149348258972",
      "\nКоордината x левого верхнего угла соответствующего прямоугольника: 78\nКоордината y левого верхнего угла соответствующего прямоугольника: 71\nШирина (в пикселях) соответствующего прямоугольника: 36\nВысота (в пикселях) соответствующего прямоугольника: 46\n"
     ],
     "output_type": "stream"
    }
   ],
   "source": [
    "predictions_min = predictions[predictions[:,0] == np.min(predictions[:,0])][0]\n",
    "\n",
    "x, y, w, h = predictions_min[1]\n",
    "\n",
    "print(f\"Вероятность отнесения к классу \\\"самолет\\\" для этого предсказания: {predictions_min[0]}\")\n",
    "\n",
    "print(f\"Координата x левого верхнего угла соответствующего прямоугольника: {x}\")\n",
    "print(f\"Координата y левого верхнего угла соответствующего прямоугольника: {y}\")\n",
    "print(f\"Ширина (в пикселях) соответствующего прямоугольника: {w}\")\n",
    "print(f\"Высота (в пикселях) соответствующего прямоугольника: {h}\")\n"
   ],
   "metadata": {
    "collapsed": false,
    "pycharm": {
     "name": "#%%\n",
     "is_executing": false
    }
   }
  }
 ],
 "metadata": {
  "kernelspec": {
   "display_name": "Python 3",
   "language": "python",
   "name": "python3"
  },
  "language_info": {
   "codemirror_mode": {
    "name": "ipython",
    "version": 2
   },
   "file_extension": ".py",
   "mimetype": "text/x-python",
   "name": "python",
   "nbconvert_exporter": "python",
   "pygments_lexer": "ipython2",
   "version": "2.7.6"
  },
  "pycharm": {
   "stem_cell": {
    "cell_type": "raw",
    "source": [],
    "metadata": {
     "collapsed": false
    }
   }
  }
 },
 "nbformat": 4,
 "nbformat_minor": 0
}